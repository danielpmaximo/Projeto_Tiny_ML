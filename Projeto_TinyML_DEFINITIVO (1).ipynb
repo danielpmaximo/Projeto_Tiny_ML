{
  "nbformat": 4,
  "nbformat_minor": 0,
  "metadata": {
    "colab": {
      "provenance": [],
      "gpuType": "T4"
    },
    "kernelspec": {
      "name": "python3",
      "display_name": "Python 3"
    },
    "language_info": {
      "name": "python"
    },
    "accelerator": "GPU"
  },
  "cells": [
    {
      "cell_type": "markdown",
      "source": [
        "# Instalações"
      ],
      "metadata": {
        "id": "6sX_H7dlnbmN"
      }
    },
    {
      "cell_type": "code",
      "source": [
        "!pip install edgeimpulse"
      ],
      "metadata": {
        "colab": {
          "base_uri": "https://localhost:8080/"
        },
        "id": "Wo4eIoCuuGlP",
        "outputId": "25f2f5be-454e-4064-bd67-6536eff2429c"
      },
      "execution_count": null,
      "outputs": [
        {
          "output_type": "stream",
          "name": "stdout",
          "text": [
            "Collecting edgeimpulse\n",
            "  Downloading edgeimpulse-1.0.15-py3-none-any.whl.metadata (2.6 kB)\n",
            "Collecting edgeimpulse-api<2.0.0,>=1.59.5 (from edgeimpulse)\n",
            "  Downloading edgeimpulse_api-1.60.10-py3-none-any.whl.metadata (1.5 kB)\n",
            "Collecting python-socketio<6.0.0,>=5.8.0 (from python-socketio[client]<6.0.0,>=5.8.0->edgeimpulse)\n",
            "  Downloading python_socketio-5.11.4-py3-none-any.whl.metadata (3.2 kB)\n",
            "Requirement already satisfied: requests<3.0.0,>=2.23.0 in /usr/local/lib/python3.10/dist-packages (from edgeimpulse) (2.32.3)\n",
            "Collecting aenum<4.0.0,>=3.1.11 (from edgeimpulse-api<2.0.0,>=1.59.5->edgeimpulse)\n",
            "  Downloading aenum-3.1.15-py3-none-any.whl.metadata (3.7 kB)\n",
            "Collecting pydantic<2.0.0,>=1.10.2 (from edgeimpulse-api<2.0.0,>=1.59.5->edgeimpulse)\n",
            "  Downloading pydantic-1.10.18-cp310-cp310-manylinux_2_17_x86_64.manylinux2014_x86_64.whl.metadata (152 kB)\n",
            "\u001b[2K     \u001b[90m━━━━━━━━━━━━━━━━━━━━━━━━━━━━━━━━━━━━━━━━\u001b[0m \u001b[32m152.2/152.2 kB\u001b[0m \u001b[31m2.3 MB/s\u001b[0m eta \u001b[36m0:00:00\u001b[0m\n",
            "\u001b[?25hRequirement already satisfied: python_dateutil<3.0.0,>=2.5.3 in /usr/local/lib/python3.10/dist-packages (from edgeimpulse-api<2.0.0,>=1.59.5->edgeimpulse) (2.8.2)\n",
            "Collecting urllib3<2.0.0,>=1.25.3 (from edgeimpulse-api<2.0.0,>=1.59.5->edgeimpulse)\n",
            "  Downloading urllib3-1.26.20-py2.py3-none-any.whl.metadata (50 kB)\n",
            "\u001b[2K     \u001b[90m━━━━━━━━━━━━━━━━━━━━━━━━━━━━━━━━━━━━━━━━\u001b[0m \u001b[32m50.1/50.1 kB\u001b[0m \u001b[31m1.7 MB/s\u001b[0m eta \u001b[36m0:00:00\u001b[0m\n",
            "\u001b[?25hCollecting bidict>=0.21.0 (from python-socketio<6.0.0,>=5.8.0->python-socketio[client]<6.0.0,>=5.8.0->edgeimpulse)\n",
            "  Downloading bidict-0.23.1-py3-none-any.whl.metadata (8.7 kB)\n",
            "Collecting python-engineio>=4.8.0 (from python-socketio<6.0.0,>=5.8.0->python-socketio[client]<6.0.0,>=5.8.0->edgeimpulse)\n",
            "  Downloading python_engineio-4.10.1-py3-none-any.whl.metadata (2.2 kB)\n",
            "Requirement already satisfied: websocket-client>=0.54.0 in /usr/local/lib/python3.10/dist-packages (from python-socketio[client]<6.0.0,>=5.8.0->edgeimpulse) (1.8.0)\n",
            "Requirement already satisfied: charset-normalizer<4,>=2 in /usr/local/lib/python3.10/dist-packages (from requests<3.0.0,>=2.23.0->edgeimpulse) (3.4.0)\n",
            "Requirement already satisfied: idna<4,>=2.5 in /usr/local/lib/python3.10/dist-packages (from requests<3.0.0,>=2.23.0->edgeimpulse) (3.10)\n",
            "Requirement already satisfied: certifi>=2017.4.17 in /usr/local/lib/python3.10/dist-packages (from requests<3.0.0,>=2.23.0->edgeimpulse) (2024.8.30)\n",
            "Requirement already satisfied: typing-extensions>=4.2.0 in /usr/local/lib/python3.10/dist-packages (from pydantic<2.0.0,>=1.10.2->edgeimpulse-api<2.0.0,>=1.59.5->edgeimpulse) (4.12.2)\n",
            "Requirement already satisfied: six>=1.5 in /usr/local/lib/python3.10/dist-packages (from python_dateutil<3.0.0,>=2.5.3->edgeimpulse-api<2.0.0,>=1.59.5->edgeimpulse) (1.16.0)\n",
            "Collecting simple-websocket>=0.10.0 (from python-engineio>=4.8.0->python-socketio<6.0.0,>=5.8.0->python-socketio[client]<6.0.0,>=5.8.0->edgeimpulse)\n",
            "  Downloading simple_websocket-1.1.0-py3-none-any.whl.metadata (1.5 kB)\n",
            "Collecting wsproto (from simple-websocket>=0.10.0->python-engineio>=4.8.0->python-socketio<6.0.0,>=5.8.0->python-socketio[client]<6.0.0,>=5.8.0->edgeimpulse)\n",
            "  Downloading wsproto-1.2.0-py3-none-any.whl.metadata (5.6 kB)\n",
            "Collecting h11<1,>=0.9.0 (from wsproto->simple-websocket>=0.10.0->python-engineio>=4.8.0->python-socketio<6.0.0,>=5.8.0->python-socketio[client]<6.0.0,>=5.8.0->edgeimpulse)\n",
            "  Downloading h11-0.14.0-py3-none-any.whl.metadata (8.2 kB)\n",
            "Downloading edgeimpulse-1.0.15-py3-none-any.whl (68 kB)\n",
            "\u001b[2K   \u001b[90m━━━━━━━━━━━━━━━━━━━━━━━━━━━━━━━━━━━━━━━━\u001b[0m \u001b[32m68.4/68.4 kB\u001b[0m \u001b[31m2.1 MB/s\u001b[0m eta \u001b[36m0:00:00\u001b[0m\n",
            "\u001b[?25hDownloading edgeimpulse_api-1.60.10-py3-none-any.whl (1.4 MB)\n",
            "\u001b[2K   \u001b[90m━━━━━━━━━━━━━━━━━━━━━━━━━━━━━━━━━━━━━━━━\u001b[0m \u001b[32m1.4/1.4 MB\u001b[0m \u001b[31m21.0 MB/s\u001b[0m eta \u001b[36m0:00:00\u001b[0m\n",
            "\u001b[?25hDownloading python_socketio-5.11.4-py3-none-any.whl (76 kB)\n",
            "\u001b[2K   \u001b[90m━━━━━━━━━━━━━━━━━━━━━━━━━━━━━━━━━━━━━━━━\u001b[0m \u001b[32m76.2/76.2 kB\u001b[0m \u001b[31m3.7 MB/s\u001b[0m eta \u001b[36m0:00:00\u001b[0m\n",
            "\u001b[?25hDownloading aenum-3.1.15-py3-none-any.whl (137 kB)\n",
            "\u001b[2K   \u001b[90m━━━━━━━━━━━━━━━━━━━━━━━━━━━━━━━━━━━━━━━━\u001b[0m \u001b[32m137.6/137.6 kB\u001b[0m \u001b[31m5.1 MB/s\u001b[0m eta \u001b[36m0:00:00\u001b[0m\n",
            "\u001b[?25hDownloading bidict-0.23.1-py3-none-any.whl (32 kB)\n",
            "Downloading pydantic-1.10.18-cp310-cp310-manylinux_2_17_x86_64.manylinux2014_x86_64.whl (3.1 MB)\n",
            "\u001b[2K   \u001b[90m━━━━━━━━━━━━━━━━━━━━━━━━━━━━━━━━━━━━━━━━\u001b[0m \u001b[32m3.1/3.1 MB\u001b[0m \u001b[31m19.6 MB/s\u001b[0m eta \u001b[36m0:00:00\u001b[0m\n",
            "\u001b[?25hDownloading python_engineio-4.10.1-py3-none-any.whl (57 kB)\n",
            "\u001b[2K   \u001b[90m━━━━━━━━━━━━━━━━━━━━━━━━━━━━━━━━━━━━━━━━\u001b[0m \u001b[32m57.9/57.9 kB\u001b[0m \u001b[31m2.7 MB/s\u001b[0m eta \u001b[36m0:00:00\u001b[0m\n",
            "\u001b[?25hDownloading urllib3-1.26.20-py2.py3-none-any.whl (144 kB)\n",
            "\u001b[2K   \u001b[90m━━━━━━━━━━━━━━━━━━━━━━━━━━━━━━━━━━━━━━━━\u001b[0m \u001b[32m144.2/144.2 kB\u001b[0m \u001b[31m6.0 MB/s\u001b[0m eta \u001b[36m0:00:00\u001b[0m\n",
            "\u001b[?25hDownloading simple_websocket-1.1.0-py3-none-any.whl (13 kB)\n",
            "Downloading wsproto-1.2.0-py3-none-any.whl (24 kB)\n",
            "Downloading h11-0.14.0-py3-none-any.whl (58 kB)\n",
            "\u001b[2K   \u001b[90m━━━━━━━━━━━━━━━━━━━━━━━━━━━━━━━━━━━━━━━━\u001b[0m \u001b[32m58.3/58.3 kB\u001b[0m \u001b[31m3.3 MB/s\u001b[0m eta \u001b[36m0:00:00\u001b[0m\n",
            "\u001b[?25hInstalling collected packages: aenum, urllib3, pydantic, h11, bidict, wsproto, edgeimpulse-api, simple-websocket, python-engineio, python-socketio, edgeimpulse\n",
            "  Attempting uninstall: urllib3\n",
            "    Found existing installation: urllib3 2.2.3\n",
            "    Uninstalling urllib3-2.2.3:\n",
            "      Successfully uninstalled urllib3-2.2.3\n",
            "  Attempting uninstall: pydantic\n",
            "    Found existing installation: pydantic 2.9.2\n",
            "    Uninstalling pydantic-2.9.2:\n",
            "      Successfully uninstalled pydantic-2.9.2\n",
            "\u001b[31mERROR: pip's dependency resolver does not currently take into account all the packages that are installed. This behaviour is the source of the following dependency conflicts.\n",
            "albumentations 1.4.15 requires pydantic>=2.7.0, but you have pydantic 1.10.18 which is incompatible.\u001b[0m\u001b[31m\n",
            "\u001b[0mSuccessfully installed aenum-3.1.15 bidict-0.23.1 edgeimpulse-1.0.15 edgeimpulse-api-1.60.10 h11-0.14.0 pydantic-1.10.18 python-engineio-4.10.1 python-socketio-5.11.4 simple-websocket-1.1.0 urllib3-1.26.20 wsproto-1.2.0\n"
          ]
        }
      ]
    },
    {
      "cell_type": "markdown",
      "source": [
        "# Modelo ML"
      ],
      "metadata": {
        "id": "WadxDRaYnfdi"
      }
    },
    {
      "cell_type": "code",
      "execution_count": null,
      "metadata": {
        "id": "M23XA7lhhyCM"
      },
      "outputs": [],
      "source": [
        "# Imporanto as bibliotecas necessárias\n",
        "\n",
        "import torch\n",
        "from torch.utils.data import Dataset, random_split, DataLoader, TensorDataset\n",
        "import torchvision\n",
        "from torchvision.datasets.utils import download_url\n",
        "import torch.nn as nn\n",
        "import torch.nn.functional as F\n",
        "import os\n",
        "import librosa\n",
        "import pandas as pd\n",
        "import numpy as np\n",
        "import torchvision.transforms as transforms\n",
        "import matplotlib.pyplot as plt\n",
        "import librosa.display\n",
        "import sklearn\n",
        "import matplotlib\n",
        "import csv\n",
        "from PIL import Image\n",
        "from sklearn.metrics import f1_score\n",
        "import IPython.display as ipd\n",
        "import random\n",
        "import edgeimpulse as ei\n",
        "ei.API_KEY = 'ei_5a6807da0b03f3b8482622b4cc13e56848d65595c3893233a66918d4642f4256'"
      ]
    },
    {
      "cell_type": "code",
      "source": [
        "import gdown\n",
        "\n",
        "# ID do arquivo no Google Drive\n",
        "file_id = '1E3srILBRypmlSHo5I4diBk75pLwl4qeQ'\n",
        "gdown.download(f'https://drive.google.com/uc?id={file_id}', 'spoken_digit_melimages.zip', quiet=False)"
      ],
      "metadata": {
        "colab": {
          "base_uri": "https://localhost:8080/",
          "height": 122
        },
        "id": "Ll54nE36FEto",
        "outputId": "88b3f40f-bd13-459c-becf-4316fb6ca0b9"
      },
      "execution_count": null,
      "outputs": [
        {
          "output_type": "stream",
          "name": "stderr",
          "text": [
            "Downloading...\n",
            "From (original): https://drive.google.com/uc?id=1E3srILBRypmlSHo5I4diBk75pLwl4qeQ\n",
            "From (redirected): https://drive.google.com/uc?id=1E3srILBRypmlSHo5I4diBk75pLwl4qeQ&confirm=t&uuid=51a29c65-9d8e-4d92-ba7f-e2688bc14a04\n",
            "To: /content/spoken_digit_melimages.zip\n",
            "100%|██████████| 67.2M/67.2M [00:00<00:00, 144MB/s]\n"
          ]
        },
        {
          "output_type": "execute_result",
          "data": {
            "text/plain": [
              "'spoken_digit_melimages.zip'"
            ],
            "application/vnd.google.colaboratory.intrinsic+json": {
              "type": "string"
            }
          },
          "metadata": {},
          "execution_count": 6
        }
      ]
    },
    {
      "cell_type": "code",
      "source": [
        "!unzip -qo spoken_digit_melimages.zip"
      ],
      "metadata": {
        "id": "_drqSUunFdlm"
      },
      "execution_count": null,
      "outputs": []
    },
    {
      "cell_type": "code",
      "source": [
        "digit = ['zero', 'one', 'two', 'three', 'four', 'five', 'six', 'seven', 'eight', 'nine']"
      ],
      "metadata": {
        "id": "83j3-sBNivOv"
      },
      "execution_count": null,
      "outputs": []
    },
    {
      "cell_type": "code",
      "source": [
        "# Random sample selection\n",
        "digit_audio_sample = ['dataset_sample_0.wav', 'dataset_sample_1.wav', 'dataset_sample_2.wav', 'dataset_sample_3.wav', 'dataset_sample_4.wav', 'dataset_sample_5.wav', 'dataset_sample_6.wav', 'dataset_sample_7.wav', 'dataset_sample_8.wav', 'dataset_sample_9.wav']\n",
        "i = random.randint(0, 9)\n",
        "\n",
        "# Selecting the sample by label\n",
        "#i = 4    # Label = 4\n",
        "\n",
        "data, sr = librosa.load('melimages/'+digit_audio_sample[i])\n",
        "\n",
        "fig = plt.figure()\n",
        "# Two subplots\n",
        "ax1 = fig.add_subplot(121)\n",
        "ax2 = fig.add_subplot(122)\n",
        "\n",
        "print(\"Label: \", i, '\\n')\n",
        "print(\"Sampling rate: \", sr, \"\\n\")\n",
        "\n",
        "# mel spectogram\n",
        "S = librosa.feature.melspectrogram(y=data, sr=sr)\n",
        "librosa.display.specshow(librosa.power_to_db(S, ref=np.max), x_axis='time', y_axis='mel', ax = ax1)\n",
        "# waveshow\n",
        "librosa.display.waveshow(np.array(data), sr=sr, ax = ax2)\n",
        "\n",
        "ipd.Audio(data = data, rate = sr)"
      ],
      "metadata": {
        "colab": {
          "base_uri": "https://localhost:8080/",
          "height": 577
        },
        "id": "2C7j2FdMi-N-",
        "outputId": "4ef70c45-115d-4c9b-adf9-fe9cc6588f72"
      },
      "execution_count": null,
      "outputs": [
        {
          "output_type": "stream",
          "name": "stdout",
          "text": [
            "Label:  9 \n",
            "\n",
            "Sampling rate:  22050 \n",
            "\n"
          ]
        },
        {
          "output_type": "execute_result",
          "data": {
            "text/plain": [
              "<IPython.lib.display.Audio object>"
            ],
            "text/html": [
              "\n",
              "                <audio  controls=\"controls\" >\n",
              "                    <source src=\"data:audio/wav;base64,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\" type=\"audio/wav\" />\n",
              "                    Your browser does not support the audio element.\n",
              "                </audio>\n",
              "              "
            ]
          },
          "metadata": {},
          "execution_count": 9
        },
        {
          "output_type": "display_data",
          "data": {
            "text/plain": [
              "<Figure size 640x480 with 2 Axes>"
            ],
            "image/png": "[encoded data removed]"
          },
          "metadata": {}
        }
      ]
    },
    {
      "cell_type": "code",
      "source": [
        "# Spoken_digit.csv\n",
        "\n",
        "spokendigit = pd.read_csv('https://drive.google.com/uc?id=1GLU3T1VmAWEIrjPjZEF6KeOF_GiqEvgu')\n",
        "spokendigit"
      ],
      "metadata": {
        "colab": {
          "base_uri": "https://localhost:8080/",
          "height": 423
        },
        "id": "Qh2K_RaskmWj",
        "outputId": "9ca71f81-24a4-447a-92ad-3968955c147d"
      },
      "execution_count": null,
      "outputs": [
        {
          "output_type": "execute_result",
          "data": {
            "text/plain": [
              "                              File  Label\n",
              "0      eight/e32ff49d_nohash_0.wav  eight\n",
              "1       five/840eab5a_nohash_0.wav   five\n",
              "2        six/541e4079_nohash_0.wav    six\n",
              "3        one/b9cccd01_nohash_0.wav    one\n",
              "4      seven/28e47b1a_nohash_2.wav  seven\n",
              "...                            ...    ...\n",
              "23661   four/d33df435_nohash_0.wav   four\n",
              "23662    two/1365dd89_nohash_0.wav    two\n",
              "23663   zero/471a0925_nohash_0.wav   zero\n",
              "23664    two/11b1df78_nohash_1.wav    two\n",
              "23665  three/541e4079_nohash_2.wav  three\n",
              "\n",
              "[23666 rows x 2 columns]"
            ],
            "text/html": [
              "\n",
              "  <div id=\"df-884d3b03-0d5a-47e5-9bcb-7701329d77a5\" class=\"colab-df-container\">\n",
              "    <div>\n",
              "<style scoped>\n",
              "    .dataframe tbody tr th:only-of-type {\n",
              "        vertical-align: middle;\n",
              "    }\n",
              "\n",
              "    .dataframe tbody tr th {\n",
              "        vertical-align: top;\n",
              "    }\n",
              "\n",
              "    .dataframe thead th {\n",
              "        text-align: right;\n",
              "    }\n",
              "</style>\n",
              "<table border=\"1\" class=\"dataframe\">\n",
              "  <thead>\n",
              "    <tr style=\"text-align: right;\">\n",
              "      <th></th>\n",
              "      <th>File</th>\n",
              "      <th>Label</th>\n",
              "    </tr>\n",
              "  </thead>\n",
              "  <tbody>\n",
              "    <tr>\n",
              "      <th>0</th>\n",
              "      <td>eight/e32ff49d_nohash_0.wav</td>\n",
              "      <td>eight</td>\n",
              "    </tr>\n",
              "    <tr>\n",
              "      <th>1</th>\n",
              "      <td>five/840eab5a_nohash_0.wav</td>\n",
              "      <td>five</td>\n",
              "    </tr>\n",
              "    <tr>\n",
              "      <th>2</th>\n",
              "      <td>six/541e4079_nohash_0.wav</td>\n",
              "      <td>six</td>\n",
              "    </tr>\n",
              "    <tr>\n",
              "      <th>3</th>\n",
              "      <td>one/b9cccd01_nohash_0.wav</td>\n",
              "      <td>one</td>\n",
              "    </tr>\n",
              "    <tr>\n",
              "      <th>4</th>\n",
              "      <td>seven/28e47b1a_nohash_2.wav</td>\n",
              "      <td>seven</td>\n",
              "    </tr>\n",
              "    <tr>\n",
              "      <th>...</th>\n",
              "      <td>...</td>\n",
              "      <td>...</td>\n",
              "    </tr>\n",
              "    <tr>\n",
              "      <th>23661</th>\n",
              "      <td>four/d33df435_nohash_0.wav</td>\n",
              "      <td>four</td>\n",
              "    </tr>\n",
              "    <tr>\n",
              "      <th>23662</th>\n",
              "      <td>two/1365dd89_nohash_0.wav</td>\n",
              "      <td>two</td>\n",
              "    </tr>\n",
              "    <tr>\n",
              "      <th>23663</th>\n",
              "      <td>zero/471a0925_nohash_0.wav</td>\n",
              "      <td>zero</td>\n",
              "    </tr>\n",
              "    <tr>\n",
              "      <th>23664</th>\n",
              "      <td>two/11b1df78_nohash_1.wav</td>\n",
              "      <td>two</td>\n",
              "    </tr>\n",
              "    <tr>\n",
              "      <th>23665</th>\n",
              "      <td>three/541e4079_nohash_2.wav</td>\n",
              "      <td>three</td>\n",
              "    </tr>\n",
              "  </tbody>\n",
              "</table>\n",
              "<p>23666 rows × 2 columns</p>\n",
              "</div>\n",
              "    <div class=\"colab-df-buttons\">\n",
              "\n",
              "  <div class=\"colab-df-container\">\n",
              "    <button class=\"colab-df-convert\" onclick=\"convertToInteractive('df-884d3b03-0d5a-47e5-9bcb-7701329d77a5')\"\n",
              "            title=\"Convert this dataframe to an interactive table.\"\n",
              "            style=\"display:none;\">\n",
              "\n",
              "  <svg xmlns=\"http://www.w3.org/2000/svg\" height=\"24px\" viewBox=\"0 -960 960 960\">\n",
              "    <path d=\"M120-120v-720h720v720H120Zm60-500h600v-160H180v160Zm220 220h160v-160H400v160Zm0 220h160v-160H400v160ZM180-400h160v-160H180v160Zm440 0h160v-160H620v160ZM180-180h160v-160H180v160Zm440 0h160v-160H620v160Z\"/>\n",
              "  </svg>\n",
              "    </button>\n",
              "\n",
              "  <style>\n",
              "    .colab-df-container {\n",
              "      display:flex;\n",
              "      gap: 12px;\n",
              "    }\n",
              "\n",
              "    .colab-df-convert {\n",
              "      background-color: #E8F0FE;\n",
              "      border: none;\n",
              "      border-radius: 50%;\n",
              "      cursor: pointer;\n",
              "      display: none;\n",
              "      fill: #1967D2;\n",
              "      height: 32px;\n",
              "      padding: 0 0 0 0;\n",
              "      width: 32px;\n",
              "    }\n",
              "\n",
              "    .colab-df-convert:hover {\n",
              "      background-color: #E2EBFA;\n",
              "      box-shadow: 0px 1px 2px rgba(60, 64, 67, 0.3), 0px 1px 3px 1px rgba(60, 64, 67, 0.15);\n",
              "      fill: #174EA6;\n",
              "    }\n",
              "\n",
              "    .colab-df-buttons div {\n",
              "      margin-bottom: 4px;\n",
              "    }\n",
              "\n",
              "    [theme=dark] .colab-df-convert {\n",
              "      background-color: #3B4455;\n",
              "      fill: #D2E3FC;\n",
              "    }\n",
              "\n",
              "    [theme=dark] .colab-df-convert:hover {\n",
              "      background-color: #434B5C;\n",
              "      box-shadow: 0px 1px 3px 1px rgba(0, 0, 0, 0.15);\n",
              "      filter: drop-shadow(0px 1px 2px rgba(0, 0, 0, 0.3));\n",
              "      fill: #FFFFFF;\n",
              "    }\n",
              "  </style>\n",
              "\n",
              "    <script>\n",
              "      const buttonEl =\n",
              "        document.querySelector('#df-884d3b03-0d5a-47e5-9bcb-7701329d77a5 button.colab-df-convert');\n",
              "      buttonEl.style.display =\n",
              "        google.colab.kernel.accessAllowed ? 'block' : 'none';\n",
              "\n",
              "      async function convertToInteractive(key) {\n",
              "        const element = document.querySelector('#df-884d3b03-0d5a-47e5-9bcb-7701329d77a5');\n",
              "        const dataTable =\n",
              "          await google.colab.kernel.invokeFunction('convertToInteractive',\n",
              "                                                    [key], {});\n",
              "        if (!dataTable) return;\n",
              "\n",
              "        const docLinkHtml = 'Like what you see? Visit the ' +\n",
              "          '<a target=\"_blank\" href=https://colab.research.google.com/notebooks/data_table.ipynb>data table notebook</a>'\n",
              "          + ' to learn more about interactive tables.';\n",
              "        element.innerHTML = '';\n",
              "        dataTable['output_type'] = 'display_data';\n",
              "        await google.colab.output.renderOutput(dataTable, element);\n",
              "        const docLink = document.createElement('div');\n",
              "        docLink.innerHTML = docLinkHtml;\n",
              "        element.appendChild(docLink);\n",
              "      }\n",
              "    </script>\n",
              "  </div>\n",
              "\n",
              "\n",
              "<div id=\"df-2d02016a-5201-46da-a72f-fc9dc5ff090e\">\n",
              "  <button class=\"colab-df-quickchart\" onclick=\"quickchart('df-2d02016a-5201-46da-a72f-fc9dc5ff090e')\"\n",
              "            title=\"Suggest charts\"\n",
              "            style=\"display:none;\">\n",
              "\n",
              "<svg xmlns=\"http://www.w3.org/2000/svg\" height=\"24px\"viewBox=\"0 0 24 24\"\n",
              "     width=\"24px\">\n",
              "    <g>\n",
              "        <path d=\"M19 3H5c-1.1 0-2 .9-2 2v14c0 1.1.9 2 2 2h14c1.1 0 2-.9 2-2V5c0-1.1-.9-2-2-2zM9 17H7v-7h2v7zm4 0h-2V7h2v10zm4 0h-2v-4h2v4z\"/>\n",
              "    </g>\n",
              "</svg>\n",
              "  </button>\n",
              "\n",
              "<style>\n",
              "  .colab-df-quickchart {\n",
              "      --bg-color: #E8F0FE;\n",
              "      --fill-color: #1967D2;\n",
              "      --hover-bg-color: #E2EBFA;\n",
              "      --hover-fill-color: #174EA6;\n",
              "      --disabled-fill-color: #AAA;\n",
              "      --disabled-bg-color: #DDD;\n",
              "  }\n",
              "\n",
              "  [theme=dark] .colab-df-quickchart {\n",
              "      --bg-color: #3B4455;\n",
              "      --fill-color: #D2E3FC;\n",
              "      --hover-bg-color: #434B5C;\n",
              "      --hover-fill-color: #FFFFFF;\n",
              "      --disabled-bg-color: #3B4455;\n",
              "      --disabled-fill-color: #666;\n",
              "  }\n",
              "\n",
              "  .colab-df-quickchart {\n",
              "    background-color: var(--bg-color);\n",
              "    border: none;\n",
              "    border-radius: 50%;\n",
              "    cursor: pointer;\n",
              "    display: none;\n",
              "    fill: var(--fill-color);\n",
              "    height: 32px;\n",
              "    padding: 0;\n",
              "    width: 32px;\n",
              "  }\n",
              "\n",
              "  .colab-df-quickchart:hover {\n",
              "    background-color: var(--hover-bg-color);\n",
              "    box-shadow: 0 1px 2px rgba(60, 64, 67, 0.3), 0 1px 3px 1px rgba(60, 64, 67, 0.15);\n",
              "    fill: var(--button-hover-fill-color);\n",
              "  }\n",
              "\n",
              "  .colab-df-quickchart-complete:disabled,\n",
              "  .colab-df-quickchart-complete:disabled:hover {\n",
              "    background-color: var(--disabled-bg-color);\n",
              "    fill: var(--disabled-fill-color);\n",
              "    box-shadow: none;\n",
              "  }\n",
              "\n",
              "  .colab-df-spinner {\n",
              "    border: 2px solid var(--fill-color);\n",
              "    border-color: transparent;\n",
              "    border-bottom-color: var(--fill-color);\n",
              "    animation:\n",
              "      spin 1s steps(1) infinite;\n",
              "  }\n",
              "\n",
              "  @keyframes spin {\n",
              "    0% {\n",
              "      border-color: transparent;\n",
              "      border-bottom-color: var(--fill-color);\n",
              "      border-left-color: var(--fill-color);\n",
              "    }\n",
              "    20% {\n",
              "      border-color: transparent;\n",
              "      border-left-color: var(--fill-color);\n",
              "      border-top-color: var(--fill-color);\n",
              "    }\n",
              "    30% {\n",
              "      border-color: transparent;\n",
              "      border-left-color: var(--fill-color);\n",
              "      border-top-color: var(--fill-color);\n",
              "      border-right-color: var(--fill-color);\n",
              "    }\n",
              "    40% {\n",
              "      border-color: transparent;\n",
              "      border-right-color: var(--fill-color);\n",
              "      border-top-color: var(--fill-color);\n",
              "    }\n",
              "    60% {\n",
              "      border-color: transparent;\n",
              "      border-right-color: var(--fill-color);\n",
              "    }\n",
              "    80% {\n",
              "      border-color: transparent;\n",
              "      border-right-color: var(--fill-color);\n",
              "      border-bottom-color: var(--fill-color);\n",
              "    }\n",
              "    90% {\n",
              "      border-color: transparent;\n",
              "      border-bottom-color: var(--fill-color);\n",
              "    }\n",
              "  }\n",
              "</style>\n",
              "\n",
              "  <script>\n",
              "    async function quickchart(key) {\n",
              "      const quickchartButtonEl =\n",
              "        document.querySelector('#' + key + ' button');\n",
              "      quickchartButtonEl.disabled = true;  // To prevent multiple clicks.\n",
              "      quickchartButtonEl.classList.add('colab-df-spinner');\n",
              "      try {\n",
              "        const charts = await google.colab.kernel.invokeFunction(\n",
              "            'suggestCharts', [key], {});\n",
              "      } catch (error) {\n",
              "        console.error('Error during call to suggestCharts:', error);\n",
              "      }\n",
              "      quickchartButtonEl.classList.remove('colab-df-spinner');\n",
              "      quickchartButtonEl.classList.add('colab-df-quickchart-complete');\n",
              "    }\n",
              "    (() => {\n",
              "      let quickchartButtonEl =\n",
              "        document.querySelector('#df-2d02016a-5201-46da-a72f-fc9dc5ff090e button');\n",
              "      quickchartButtonEl.style.display =\n",
              "        google.colab.kernel.accessAllowed ? 'block' : 'none';\n",
              "    })();\n",
              "  </script>\n",
              "</div>\n",
              "\n",
              "  <div id=\"id_8b6206ae-74fb-4712-a2fe-2ced751fae50\">\n",
              "    <style>\n",
              "      .colab-df-generate {\n",
              "        background-color: #E8F0FE;\n",
              "        border: none;\n",
              "        border-radius: 50%;\n",
              "        cursor: pointer;\n",
              "        display: none;\n",
              "        fill: #1967D2;\n",
              "        height: 32px;\n",
              "        padding: 0 0 0 0;\n",
              "        width: 32px;\n",
              "      }\n",
              "\n",
              "      .colab-df-generate:hover {\n",
              "        background-color: #E2EBFA;\n",
              "        box-shadow: 0px 1px 2px rgba(60, 64, 67, 0.3), 0px 1px 3px 1px rgba(60, 64, 67, 0.15);\n",
              "        fill: #174EA6;\n",
              "      }\n",
              "\n",
              "      [theme=dark] .colab-df-generate {\n",
              "        background-color: #3B4455;\n",
              "        fill: #D2E3FC;\n",
              "      }\n",
              "\n",
              "      [theme=dark] .colab-df-generate:hover {\n",
              "        background-color: #434B5C;\n",
              "        box-shadow: 0px 1px 3px 1px rgba(0, 0, 0, 0.15);\n",
              "        filter: drop-shadow(0px 1px 2px rgba(0, 0, 0, 0.3));\n",
              "        fill: #FFFFFF;\n",
              "      }\n",
              "    </style>\n",
              "    <button class=\"colab-df-generate\" onclick=\"generateWithVariable('spokendigit')\"\n",
              "            title=\"Generate code using this dataframe.\"\n",
              "            style=\"display:none;\">\n",
              "\n",
              "  <svg xmlns=\"http://www.w3.org/2000/svg\" height=\"24px\"viewBox=\"0 0 24 24\"\n",
              "       width=\"24px\">\n",
              "    <path d=\"M7,19H8.4L18.45,9,17,7.55,7,17.6ZM5,21V16.75L18.45,3.32a2,2,0,0,1,2.83,0l1.4,1.43a1.91,1.91,0,0,1,.58,1.4,1.91,1.91,0,0,1-.58,1.4L9.25,21ZM18.45,9,17,7.55Zm-12,3A5.31,5.31,0,0,0,4.9,8.1,5.31,5.31,0,0,0,1,6.5,5.31,5.31,0,0,0,4.9,4.9,5.31,5.31,0,0,0,6.5,1,5.31,5.31,0,0,0,8.1,4.9,5.31,5.31,0,0,0,12,6.5,5.46,5.46,0,0,0,6.5,12Z\"/>\n",
              "  </svg>\n",
              "    </button>\n",
              "    <script>\n",
              "      (() => {\n",
              "      const buttonEl =\n",
              "        document.querySelector('#id_8b6206ae-74fb-4712-a2fe-2ced751fae50 button.colab-df-generate');\n",
              "      buttonEl.style.display =\n",
              "        google.colab.kernel.accessAllowed ? 'block' : 'none';\n",
              "\n",
              "      buttonEl.onclick = () => {\n",
              "        google.colab.notebook.generateWithVariable('spokendigit');\n",
              "      }\n",
              "      })();\n",
              "    </script>\n",
              "  </div>\n",
              "\n",
              "    </div>\n",
              "  </div>\n"
            ],
            "application/vnd.google.colaboratory.intrinsic+json": {
              "type": "dataframe",
              "variable_name": "spokendigit",
              "summary": "{\n  \"name\": \"spokendigit\",\n  \"rows\": 23666,\n  \"fields\": [\n    {\n      \"column\": \"File\",\n      \"properties\": {\n        \"dtype\": \"string\",\n        \"num_unique_values\": 23666,\n        \"samples\": [\n          \"nine/b3bb4dd6_nohash_0.wav\",\n          \"eight/ffd2ba2f_nohash_3.wav\",\n          \"three/c120e80e_nohash_0.wav\"\n        ],\n        \"semantic_type\": \"\",\n        \"description\": \"\"\n      }\n    },\n    {\n      \"column\": \"Label\",\n      \"properties\": {\n        \"dtype\": \"category\",\n        \"num_unique_values\": 10,\n        \"samples\": [\n          \"two\",\n          \"five\",\n          \"nine\"\n        ],\n        \"semantic_type\": \"\",\n        \"description\": \"\"\n      }\n    }\n  ]\n}"
            }
          },
          "metadata": {},
          "execution_count": 10
        }
      ]
    },
    {
      "cell_type": "code",
      "source": [
        "spokendigit['Label'].value_counts()"
      ],
      "metadata": {
        "colab": {
          "base_uri": "https://localhost:8080/",
          "height": 429
        },
        "id": "dxgl8Cromk5G",
        "outputId": "0a8785da-e402-4280-8b89-fb1d3c814c6e"
      },
      "execution_count": null,
      "outputs": [
        {
          "output_type": "execute_result",
          "data": {
            "text/plain": [
              "Label\n",
              "seven    2377\n",
              "zero     2376\n",
              "two      2373\n",
              "four     2372\n",
              "one      2370\n",
              "six      2369\n",
              "nine     2364\n",
              "five     2357\n",
              "three    2356\n",
              "eight    2352\n",
              "Name: count, dtype: int64"
            ],
            "text/html": [
              "<div>\n",
              "<style scoped>\n",
              "    .dataframe tbody tr th:only-of-type {\n",
              "        vertical-align: middle;\n",
              "    }\n",
              "\n",
              "    .dataframe tbody tr th {\n",
              "        vertical-align: top;\n",
              "    }\n",
              "\n",
              "    .dataframe thead th {\n",
              "        text-align: right;\n",
              "    }\n",
              "</style>\n",
              "<table border=\"1\" class=\"dataframe\">\n",
              "  <thead>\n",
              "    <tr style=\"text-align: right;\">\n",
              "      <th></th>\n",
              "      <th>count</th>\n",
              "    </tr>\n",
              "    <tr>\n",
              "      <th>Label</th>\n",
              "      <th></th>\n",
              "    </tr>\n",
              "  </thead>\n",
              "  <tbody>\n",
              "    <tr>\n",
              "      <th>seven</th>\n",
              "      <td>2377</td>\n",
              "    </tr>\n",
              "    <tr>\n",
              "      <th>zero</th>\n",
              "      <td>2376</td>\n",
              "    </tr>\n",
              "    <tr>\n",
              "      <th>two</th>\n",
              "      <td>2373</td>\n",
              "    </tr>\n",
              "    <tr>\n",
              "      <th>four</th>\n",
              "      <td>2372</td>\n",
              "    </tr>\n",
              "    <tr>\n",
              "      <th>one</th>\n",
              "      <td>2370</td>\n",
              "    </tr>\n",
              "    <tr>\n",
              "      <th>six</th>\n",
              "      <td>2369</td>\n",
              "    </tr>\n",
              "    <tr>\n",
              "      <th>nine</th>\n",
              "      <td>2364</td>\n",
              "    </tr>\n",
              "    <tr>\n",
              "      <th>five</th>\n",
              "      <td>2357</td>\n",
              "    </tr>\n",
              "    <tr>\n",
              "      <th>three</th>\n",
              "      <td>2356</td>\n",
              "    </tr>\n",
              "    <tr>\n",
              "      <th>eight</th>\n",
              "      <td>2352</td>\n",
              "    </tr>\n",
              "  </tbody>\n",
              "</table>\n",
              "</div><br><label><b>dtype:</b> int64</label>"
            ]
          },
          "metadata": {},
          "execution_count": 11
        }
      ]
    },
    {
      "cell_type": "code",
      "source": [
        "class SpokenDigit(Dataset):\n",
        "    def __init__(self, file = None, rootdir = None, transform = None):\n",
        "        self.df = pd.read_csv(file)\n",
        "        self.rootdir = rootdir    # root directory for the images\n",
        "        self.transform = transform\n",
        "\n",
        "    def __len__(self):\n",
        "        return len(self.df)\n",
        "\n",
        "    def __getitem__(self, i):\n",
        "        row = self.df.loc[i]\n",
        "        fname, label = row['File'], row['Label']\n",
        "        ik = self.rootdir+fname[:-4]+'.jpg'\n",
        "        img = Image.open(ik)\n",
        "        if self.transform:\n",
        "            img = self.transform(img)\n",
        "        return img, torch.tensor(digit.index(label))    # return image tensor and numeric label\n",
        "\n",
        "    def getsr(self, i):\n",
        "        row = self.df.loc[i]\n",
        "        fname, label = row['File'], row['Label']\n",
        "        _, sr = librosa.load(self.rootdir+fname)\n",
        "        return sr"
      ],
      "metadata": {
        "id": "jCpO9uQgm0iL"
      },
      "execution_count": null,
      "outputs": []
    },
    {
      "cell_type": "code",
      "source": [
        "meldset = SpokenDigit('https://drive.google.com/uc?id=1GLU3T1VmAWEIrjPjZEF6KeOF_GiqEvgu', 'melimages/', transforms.Compose([transforms.ToTensor()]))"
      ],
      "metadata": {
        "id": "lxngd5a7m4AF"
      },
      "execution_count": null,
      "outputs": []
    },
    {
      "cell_type": "code",
      "source": [
        "# train - val split of 85-15\n",
        "\n",
        "size = len(meldset)\n",
        "val_size = int(0.15 * size)\n",
        "train_size = size - val_size\n",
        "\n",
        "train_dset, val_dset = random_split(meldset, [train_size, val_size])\n",
        "\n",
        "print(\"Number of samples in train set: \", train_size)\n",
        "print(\"Number of samples in validation set: \", val_size)"
      ],
      "metadata": {
        "colab": {
          "base_uri": "https://localhost:8080/"
        },
        "id": "rZxN8CPKm9HP",
        "outputId": "03e07de3-c83b-497c-e01b-5fcefd14ab09"
      },
      "execution_count": null,
      "outputs": [
        {
          "output_type": "stream",
          "name": "stdout",
          "text": [
            "Number of samples in train set:  20117\n",
            "Number of samples in validation set:  3549\n"
          ]
        }
      ]
    },
    {
      "cell_type": "code",
      "source": [
        "train_dl = DataLoader(train_dset, 64, True, num_workers=6, pin_memory=True)\n",
        "val_dl = DataLoader(val_dset, 64, num_workers=6, pin_memory=True)"
      ],
      "metadata": {
        "colab": {
          "base_uri": "https://localhost:8080/"
        },
        "id": "Ep6KuRb-oHam",
        "outputId": "1c5062d3-baf1-4f11-e012-3948ead41f6c"
      },
      "execution_count": null,
      "outputs": [
        {
          "output_type": "stream",
          "name": "stderr",
          "text": [
            "/usr/local/lib/python3.10/dist-packages/torch/utils/data/dataloader.py:617: UserWarning: This DataLoader will create 6 worker processes in total. Our suggested max number of worker in current system is 2, which is smaller than what this DataLoader is going to create. Please be aware that excessive worker creation might get DataLoader running slow or even freeze, lower the worker number to avoid potential slowness/freeze if necessary.\n",
            "  warnings.warn(\n"
          ]
        }
      ]
    },
    {
      "cell_type": "code",
      "source": [
        "class SpokenDigitModel(nn.Module):\n",
        "    def __init__(self):\n",
        "        super().__init__()\n",
        "        self.network = nn.Sequential(\n",
        "            nn.Conv2d(3, 16, kernel_size=3, padding=1),\n",
        "            nn.ReLU(),\n",
        "            nn.MaxPool2d(2, 2),\n",
        "            nn.Conv2d(16, 32, kernel_size=3, stride=1, padding=1),\n",
        "            nn.ReLU(),\n",
        "            nn.MaxPool2d(2, 2),\n",
        "\n",
        "            nn.Conv2d(32, 64, kernel_size=3, stride=1, padding=1),\n",
        "            nn.ReLU(),\n",
        "            nn.MaxPool2d(2, 2),\n",
        "            nn.Conv2d(64, 128, kernel_size=3, stride=1, padding=1),\n",
        "            nn.ReLU(),\n",
        "            nn.MaxPool2d(2, 2),\n",
        "\n",
        "            nn.Conv2d(128, 128, kernel_size=3, stride=1, padding=1),\n",
        "            nn.ReLU(),\n",
        "            nn.MaxPool2d(2, 2),\n",
        "            nn.Conv2d(128, 256, kernel_size=3, stride=1, padding=1),\n",
        "            nn.ReLU(),\n",
        "            nn.AdaptiveAvgPool2d(1),\n",
        "\n",
        "            nn.Flatten(),\n",
        "            nn.Linear(256, 128),\n",
        "            nn.ReLU(),\n",
        "            nn.Linear(128, 64),\n",
        "            nn.ReLU(),\n",
        "            nn.Linear(64, 10),\n",
        "            nn.Softmax(dim = 1)\n",
        "        )\n",
        "\n",
        "    def forward(self, x):\n",
        "        return self.network(x)\n",
        "\n",
        "    def training_step(self, batch):\n",
        "        inputs, labels = batch\n",
        "        outputs = self(inputs)\n",
        "        loss = F.cross_entropy(outputs, labels)    # cros entropy loss\n",
        "        return loss\n",
        "\n",
        "    def validation_step(self, batch):\n",
        "        inputs, labels = batch\n",
        "        outputs = self(inputs)\n",
        "        loss = F.cross_entropy(outputs, labels)\n",
        "        _, pred = torch.max(outputs, 1)\n",
        "        accuracy = torch.tensor(torch.sum(pred==labels).item()/len(pred))    # calculate accuracy\n",
        "        return [loss.detach(), accuracy.detach()]"
      ],
      "metadata": {
        "id": "9tcYZnICoMai"
      },
      "execution_count": null,
      "outputs": []
    },
    {
      "cell_type": "code",
      "source": [
        "def evaluate(model, loader):\n",
        "    model.eval()\n",
        "    outputs = [model.validation_step(batch) for batch in loader]\n",
        "    outputs = torch.tensor(outputs).T\n",
        "    loss, accuracy = torch.mean(outputs, dim=1)\n",
        "    return {\"loss\" : loss.item(), \"accuracy\" : accuracy.item()}"
      ],
      "metadata": {
        "id": "FzHl-O6HpC95"
      },
      "execution_count": null,
      "outputs": []
    },
    {
      "cell_type": "code",
      "source": [
        "def fit(model, train_loader, val_loader, epochs, lr, optimizer_function = torch.optim.Adam):\n",
        "    history = []\n",
        "    optimizer = optimizer_function(model.parameters(), lr)\n",
        "\n",
        "    for epoch in range(epochs):\n",
        "        print(\"Epoch \", epoch)\n",
        "        #Train\n",
        "        model.train()\n",
        "\n",
        "        for batch in train_loader:\n",
        "            loss = model.training_step(batch)\n",
        "            loss.backward()\n",
        "\n",
        "            optimizer.step()\n",
        "            optimizer.zero_grad()\n",
        "\n",
        "        #Validate\n",
        "        result = evaluate(model, val_loader)\n",
        "\n",
        "        print(\" Val_loss: \", result['loss'], \" Accuracy: \", result['accuracy'])\n",
        "\n",
        "        history.append(result)\n",
        "    return history"
      ],
      "metadata": {
        "id": "gt7Dw_HHpFH2"
      },
      "execution_count": null,
      "outputs": []
    },
    {
      "cell_type": "code",
      "source": [
        "model = SpokenDigitModel()\n",
        "history = []\n",
        "\n",
        "def count_parameters(model):\n",
        "    return sum(p.numel() for p in model.parameters() if p.requires_grad)\n",
        "\n",
        "# evaluating on an untrained model\n",
        "evaluate(model, val_dl)\n",
        "from torchsummary import summary\n",
        "import torch\n",
        "import torchvision\n",
        "from torch import nn\n",
        "from torchvision import models\n",
        "print(model)\n",
        "count_parameters(model)"
      ],
      "metadata": {
        "colab": {
          "base_uri": "https://localhost:8080/"
        },
        "id": "yTa0Cw3jpIfW",
        "outputId": "e142e9ca-078c-4302-c8a0-53c5c2adae84"
      },
      "execution_count": null,
      "outputs": [
        {
          "output_type": "stream",
          "name": "stdout",
          "text": [
            "SpokenDigitModel(\n",
            "  (network): Sequential(\n",
            "    (0): Conv2d(3, 16, kernel_size=(3, 3), stride=(1, 1), padding=(1, 1))\n",
            "    (1): ReLU()\n",
            "    (2): MaxPool2d(kernel_size=2, stride=2, padding=0, dilation=1, ceil_mode=False)\n",
            "    (3): Conv2d(16, 32, kernel_size=(3, 3), stride=(1, 1), padding=(1, 1))\n",
            "    (4): ReLU()\n",
            "    (5): MaxPool2d(kernel_size=2, stride=2, padding=0, dilation=1, ceil_mode=False)\n",
            "    (6): Conv2d(32, 64, kernel_size=(3, 3), stride=(1, 1), padding=(1, 1))\n",
            "    (7): ReLU()\n",
            "    (8): MaxPool2d(kernel_size=2, stride=2, padding=0, dilation=1, ceil_mode=False)\n",
            "    (9): Conv2d(64, 128, kernel_size=(3, 3), stride=(1, 1), padding=(1, 1))\n",
            "    (10): ReLU()\n",
            "    (11): MaxPool2d(kernel_size=2, stride=2, padding=0, dilation=1, ceil_mode=False)\n",
            "    (12): Conv2d(128, 128, kernel_size=(3, 3), stride=(1, 1), padding=(1, 1))\n",
            "    (13): ReLU()\n",
            "    (14): MaxPool2d(kernel_size=2, stride=2, padding=0, dilation=1, ceil_mode=False)\n",
            "    (15): Conv2d(128, 256, kernel_size=(3, 3), stride=(1, 1), padding=(1, 1))\n",
            "    (16): ReLU()\n",
            "    (17): AdaptiveAvgPool2d(output_size=1)\n",
            "    (18): Flatten(start_dim=1, end_dim=-1)\n",
            "    (19): Linear(in_features=256, out_features=128, bias=True)\n",
            "    (20): ReLU()\n",
            "    (21): Linear(in_features=128, out_features=64, bias=True)\n",
            "    (22): ReLU()\n",
            "    (23): Linear(in_features=64, out_features=10, bias=True)\n",
            "    (24): Softmax(dim=1)\n",
            "  )\n",
            ")\n"
          ]
        },
        {
          "output_type": "execute_result",
          "data": {
            "text/plain": [
              "581994"
            ]
          },
          "metadata": {},
          "execution_count": 19
        }
      ]
    },
    {
      "cell_type": "code",
      "source": [
        "history.append(fit(model, train_dl, val_dl, 16, 0.001))"
      ],
      "metadata": {
        "colab": {
          "base_uri": "https://localhost:8080/"
        },
        "id": "5Wdv28QdpP7k",
        "outputId": "e033bd47-a1df-4a7c-8690-a46ab3cc66f1"
      },
      "execution_count": null,
      "outputs": [
        {
          "output_type": "stream",
          "name": "stdout",
          "text": [
            "Epoch  0\n",
            " Val_loss:  2.045856475830078  Accuracy:  0.42134585976600647\n",
            "Epoch  1\n",
            " Val_loss:  1.827890157699585  Accuracy:  0.6326296925544739\n",
            "Epoch  2\n",
            " Val_loss:  1.702131986618042  Accuracy:  0.7580241560935974\n",
            "Epoch  3\n",
            " Val_loss:  1.6754827499389648  Accuracy:  0.7862626910209656\n",
            "Epoch  4\n",
            " Val_loss:  1.6989269256591797  Accuracy:  0.7612088322639465\n",
            "Epoch  5\n",
            " Val_loss:  1.6686781644821167  Accuracy:  0.789553165435791\n",
            "Epoch  6\n",
            " Val_loss:  1.5994654893875122  Accuracy:  0.8608759641647339\n",
            "Epoch  7\n",
            " Val_loss:  1.5714547634124756  Accuracy:  0.8905095458030701\n",
            "Epoch  8\n",
            " Val_loss:  1.5716031789779663  Accuracy:  0.8902305364608765\n",
            "Epoch  9\n",
            " Val_loss:  1.5748013257980347  Accuracy:  0.8855448961257935\n",
            "Epoch  10\n",
            " Val_loss:  1.552305817604065  Accuracy:  0.9087033867835999\n",
            "Epoch  11\n",
            " Val_loss:  1.5533949136734009  Accuracy:  0.9061345458030701\n",
            "Epoch  12\n",
            " Val_loss:  1.5917729139328003  Accuracy:  0.8684671521186829\n",
            "Epoch  13\n",
            " Val_loss:  1.5423500537872314  Accuracy:  0.9170739054679871\n",
            "Epoch  14\n",
            " Val_loss:  1.5531997680664062  Accuracy:  0.9075873494148254\n",
            "Epoch  15\n",
            " Val_loss:  1.5518245697021484  Accuracy:  0.9084243774414062\n"
          ]
        }
      ]
    },
    {
      "cell_type": "code",
      "source": [
        "evaluate(model, val_dl)"
      ],
      "metadata": {
        "id": "98tQgSbdploq",
        "colab": {
          "base_uri": "https://localhost:8080/"
        },
        "outputId": "68d5b194-034d-47da-a895-3ad01fc9047b"
      },
      "execution_count": null,
      "outputs": [
        {
          "output_type": "execute_result",
          "data": {
            "text/plain": [
              "{'loss': 1.5518245697021484, 'accuracy': 0.9084243774414062}"
            ]
          },
          "metadata": {},
          "execution_count": 21
        }
      ]
    },
    {
      "cell_type": "code",
      "source": [
        "import torch\n",
        "\n",
        "# Salvar o modelo completo\n",
        "torch.save(model, \"my_model_torch.pth\")"
      ],
      "metadata": {
        "id": "cajbPJAM9DPJ"
      },
      "execution_count": null,
      "outputs": []
    },
    {
      "cell_type": "code",
      "source": [
        "plot(losses, 'Losses')"
      ],
      "metadata": {
        "id": "BBbRSeOppp8X",
        "colab": {
          "base_uri": "https://localhost:8080/",
          "height": 452
        },
        "outputId": "c33f3a80-6ffd-4871-f3d2-0cd79187a627"
      },
      "execution_count": null,
      "outputs": [
        {
          "output_type": "display_data",
          "data": {
            "text/plain": [
              "<Figure size 640x480 with 1 Axes>"
            ],
            "image/png": "[encoded data removed]"
          },
          "metadata": {}
        }
      ]
    },
    {
      "cell_type": "code",
      "source": [
        "plot(accuracies, 'Accuracy')"
      ],
      "metadata": {
        "id": "F5a8O_gCpq6_",
        "colab": {
          "base_uri": "https://localhost:8080/",
          "height": 452
        },
        "outputId": "9b1777cd-0134-405a-e02c-0f0a23005bc2"
      },
      "execution_count": null,
      "outputs": [
        {
          "output_type": "display_data",
          "data": {
            "text/plain": [
              "<Figure size 640x480 with 1 Axes>"
            ],
            "image/png": "[encoded data removed]"
          },
          "metadata": {}
        }
      ]
    },
    {
      "cell_type": "markdown",
      "source": [
        "#QUANTIZAÇÕES TENSOFLOW"
      ],
      "metadata": {
        "id": "_etSRFcg6vjq"
      }
    },
    {
      "cell_type": "code",
      "source": [
        "!pip install onnx2tf\n",
        "!pip install onnx\n",
        "!pip install sng4onnx"
      ],
      "metadata": {
        "id": "94cK1Z4nTORA"
      },
      "execution_count": null,
      "outputs": []
    },
    {
      "cell_type": "code",
      "source": [
        "model = torch.load('my_model_torch.pth')"
      ],
      "metadata": {
        "colab": {
          "base_uri": "https://localhost:8080/",
          "height": 341
        },
        "id": "d9_qp-W4Ow3P",
        "outputId": "d30b14a1-652f-4c48-f5e5-55e5b04f1bad"
      },
      "execution_count": null,
      "outputs": [
        {
          "output_type": "stream",
          "name": "stderr",
          "text": [
            "<ipython-input-6-14b352beafc8>:1: FutureWarning: You are using `torch.load` with `weights_only=False` (the current default value), which uses the default pickle module implicitly. It is possible to construct malicious pickle data which will execute arbitrary code during unpickling (See https://github.com/pytorch/pytorch/blob/main/SECURITY.md#untrusted-models for more details). In a future release, the default value for `weights_only` will be flipped to `True`. This limits the functions that could be executed during unpickling. Arbitrary objects will no longer be allowed to be loaded via this mode unless they are explicitly allowlisted by the user via `torch.serialization.add_safe_globals`. We recommend you start setting `weights_only=True` for any use case where you don't have full control of the loaded file. Please open an issue on GitHub for any issues related to this experimental feature.\n",
            "  model = torch.load('my_model_torch.pth')\n"
          ]
        },
        {
          "output_type": "error",
          "ename": "FileNotFoundError",
          "evalue": "[Errno 2] No such file or directory: 'my_model_torch.pth'",
          "traceback": [
            "\u001b[0;31m---------------------------------------------------------------------------\u001b[0m",
            "\u001b[0;31mFileNotFoundError\u001b[0m                         Traceback (most recent call last)",
            "\u001b[0;32m<ipython-input-6-14b352beafc8>\u001b[0m in \u001b[0;36m<cell line: 1>\u001b[0;34m()\u001b[0m\n\u001b[0;32m----> 1\u001b[0;31m \u001b[0mmodel\u001b[0m \u001b[0;34m=\u001b[0m \u001b[0mtorch\u001b[0m\u001b[0;34m.\u001b[0m\u001b[0mload\u001b[0m\u001b[0;34m(\u001b[0m\u001b[0;34m'my_model_torch.pth'\u001b[0m\u001b[0;34m)\u001b[0m\u001b[0;34m\u001b[0m\u001b[0;34m\u001b[0m\u001b[0m\n\u001b[0m",
            "\u001b[0;32m/usr/local/lib/python3.10/dist-packages/torch/serialization.py\u001b[0m in \u001b[0;36mload\u001b[0;34m(f, map_location, pickle_module, weights_only, mmap, **pickle_load_args)\u001b[0m\n\u001b[1;32m   1317\u001b[0m         \u001b[0mpickle_load_args\u001b[0m\u001b[0;34m[\u001b[0m\u001b[0;34m\"encoding\"\u001b[0m\u001b[0;34m]\u001b[0m \u001b[0;34m=\u001b[0m \u001b[0;34m\"utf-8\"\u001b[0m\u001b[0;34m\u001b[0m\u001b[0;34m\u001b[0m\u001b[0m\n\u001b[1;32m   1318\u001b[0m \u001b[0;34m\u001b[0m\u001b[0m\n\u001b[0;32m-> 1319\u001b[0;31m     \u001b[0;32mwith\u001b[0m \u001b[0m_open_file_like\u001b[0m\u001b[0;34m(\u001b[0m\u001b[0mf\u001b[0m\u001b[0;34m,\u001b[0m \u001b[0;34m\"rb\"\u001b[0m\u001b[0;34m)\u001b[0m \u001b[0;32mas\u001b[0m \u001b[0mopened_file\u001b[0m\u001b[0;34m:\u001b[0m\u001b[0;34m\u001b[0m\u001b[0;34m\u001b[0m\u001b[0m\n\u001b[0m\u001b[1;32m   1320\u001b[0m         \u001b[0;32mif\u001b[0m \u001b[0m_is_zipfile\u001b[0m\u001b[0;34m(\u001b[0m\u001b[0mopened_file\u001b[0m\u001b[0;34m)\u001b[0m\u001b[0;34m:\u001b[0m\u001b[0;34m\u001b[0m\u001b[0;34m\u001b[0m\u001b[0m\n\u001b[1;32m   1321\u001b[0m             \u001b[0;31m# The zipfile reader is going to advance the current file position.\u001b[0m\u001b[0;34m\u001b[0m\u001b[0;34m\u001b[0m\u001b[0m\n",
            "\u001b[0;32m/usr/local/lib/python3.10/dist-packages/torch/serialization.py\u001b[0m in \u001b[0;36m_open_file_like\u001b[0;34m(name_or_buffer, mode)\u001b[0m\n\u001b[1;32m    657\u001b[0m \u001b[0;32mdef\u001b[0m \u001b[0m_open_file_like\u001b[0m\u001b[0;34m(\u001b[0m\u001b[0mname_or_buffer\u001b[0m\u001b[0;34m,\u001b[0m \u001b[0mmode\u001b[0m\u001b[0;34m)\u001b[0m\u001b[0;34m:\u001b[0m\u001b[0;34m\u001b[0m\u001b[0;34m\u001b[0m\u001b[0m\n\u001b[1;32m    658\u001b[0m     \u001b[0;32mif\u001b[0m \u001b[0m_is_path\u001b[0m\u001b[0;34m(\u001b[0m\u001b[0mname_or_buffer\u001b[0m\u001b[0;34m)\u001b[0m\u001b[0;34m:\u001b[0m\u001b[0;34m\u001b[0m\u001b[0;34m\u001b[0m\u001b[0m\n\u001b[0;32m--> 659\u001b[0;31m         \u001b[0;32mreturn\u001b[0m \u001b[0m_open_file\u001b[0m\u001b[0;34m(\u001b[0m\u001b[0mname_or_buffer\u001b[0m\u001b[0;34m,\u001b[0m \u001b[0mmode\u001b[0m\u001b[0;34m)\u001b[0m\u001b[0;34m\u001b[0m\u001b[0;34m\u001b[0m\u001b[0m\n\u001b[0m\u001b[1;32m    660\u001b[0m     \u001b[0;32melse\u001b[0m\u001b[0;34m:\u001b[0m\u001b[0;34m\u001b[0m\u001b[0;34m\u001b[0m\u001b[0m\n\u001b[1;32m    661\u001b[0m         \u001b[0;32mif\u001b[0m \u001b[0;34m\"w\"\u001b[0m \u001b[0;32min\u001b[0m \u001b[0mmode\u001b[0m\u001b[0;34m:\u001b[0m\u001b[0;34m\u001b[0m\u001b[0;34m\u001b[0m\u001b[0m\n",
            "\u001b[0;32m/usr/local/lib/python3.10/dist-packages/torch/serialization.py\u001b[0m in \u001b[0;36m__init__\u001b[0;34m(self, name, mode)\u001b[0m\n\u001b[1;32m    638\u001b[0m \u001b[0;32mclass\u001b[0m \u001b[0m_open_file\u001b[0m\u001b[0;34m(\u001b[0m\u001b[0m_opener\u001b[0m\u001b[0;34m)\u001b[0m\u001b[0;34m:\u001b[0m\u001b[0;34m\u001b[0m\u001b[0;34m\u001b[0m\u001b[0m\n\u001b[1;32m    639\u001b[0m     \u001b[0;32mdef\u001b[0m \u001b[0m__init__\u001b[0m\u001b[0;34m(\u001b[0m\u001b[0mself\u001b[0m\u001b[0;34m,\u001b[0m \u001b[0mname\u001b[0m\u001b[0;34m,\u001b[0m \u001b[0mmode\u001b[0m\u001b[0;34m)\u001b[0m\u001b[0;34m:\u001b[0m\u001b[0;34m\u001b[0m\u001b[0;34m\u001b[0m\u001b[0m\n\u001b[0;32m--> 640\u001b[0;31m         \u001b[0msuper\u001b[0m\u001b[0;34m(\u001b[0m\u001b[0;34m)\u001b[0m\u001b[0;34m.\u001b[0m\u001b[0m__init__\u001b[0m\u001b[0;34m(\u001b[0m\u001b[0mopen\u001b[0m\u001b[0;34m(\u001b[0m\u001b[0mname\u001b[0m\u001b[0;34m,\u001b[0m \u001b[0mmode\u001b[0m\u001b[0;34m)\u001b[0m\u001b[0;34m)\u001b[0m\u001b[0;34m\u001b[0m\u001b[0;34m\u001b[0m\u001b[0m\n\u001b[0m\u001b[1;32m    641\u001b[0m \u001b[0;34m\u001b[0m\u001b[0m\n\u001b[1;32m    642\u001b[0m     \u001b[0;32mdef\u001b[0m \u001b[0m__exit__\u001b[0m\u001b[0;34m(\u001b[0m\u001b[0mself\u001b[0m\u001b[0;34m,\u001b[0m \u001b[0;34m*\u001b[0m\u001b[0margs\u001b[0m\u001b[0;34m)\u001b[0m\u001b[0;34m:\u001b[0m\u001b[0;34m\u001b[0m\u001b[0;34m\u001b[0m\u001b[0m\n",
            "\u001b[0;31mFileNotFoundError\u001b[0m: [Errno 2] No such file or directory: 'my_model_torch.pth'"
          ]
        }
      ]
    },
    {
      "cell_type": "code",
      "source": [
        "#CRIA MODELO ONNX\n",
        "\n",
        "import torch\n",
        "import onnx\n",
        "\n",
        "\n",
        "# Supondo que model seja seu modelo treinado\n",
        "input_tensor = torch.randn(64, 3, 54, 55)  # Exemplo de tensor de entrada\n",
        "\n",
        "torch.onnx.export(\n",
        "    model,\n",
        "    input_tensor,\n",
        "    \"my_model.onnx\",\n",
        "    export_params=True,  # Exportar parâmetros do modelo\n",
        "    opset_version=11,    # Certifique-se de usar uma versão compatível do opset\n",
        "    do_constant_folding=True,  # Otimizações\n",
        "    input_names=[\"input\"],  # Nomes das entradas\n",
        "    output_names=[\"output\"],  # Nomes das saídas\n",
        "    dynamic_axes={\"input\": {0: \"batch_size\"}, \"output\": {0: \"batch_size\"}}  # Eixos dinâmicos\n",
        ")\n",
        "\n",
        "# Carregar o modelo ONNX\n",
        "onnx_model = onnx.load(\"my_model.onnx\")\n",
        "\n",
        "# Verificar o modelo\n",
        "onnx.checker.check_model(onnx_model)\n",
        "\n",
        "print(\"O modelo ONNX é válido.\")"
      ],
      "metadata": {
        "id": "AjWk0yg6D4KX",
        "colab": {
          "base_uri": "https://localhost:8080/"
        },
        "outputId": "1ebf2505-18d4-471e-fae8-c7a88f69d7c9"
      },
      "execution_count": null,
      "outputs": [
        {
          "output_type": "stream",
          "name": "stderr",
          "text": [
            "<ipython-input-27-93381bb9523b>:6: FutureWarning: You are using `torch.load` with `weights_only=False` (the current default value), which uses the default pickle module implicitly. It is possible to construct malicious pickle data which will execute arbitrary code during unpickling (See https://github.com/pytorch/pytorch/blob/main/SECURITY.md#untrusted-models for more details). In a future release, the default value for `weights_only` will be flipped to `True`. This limits the functions that could be executed during unpickling. Arbitrary objects will no longer be allowed to be loaded via this mode unless they are explicitly allowlisted by the user via `torch.serialization.add_safe_globals`. We recommend you start setting `weights_only=True` for any use case where you don't have full control of the loaded file. Please open an issue on GitHub for any issues related to this experimental feature.\n",
            "  model = torch.load('my_model_torch.pth')\n"
          ]
        },
        {
          "output_type": "stream",
          "name": "stdout",
          "text": [
            "O modelo ONNX é válido.\n"
          ]
        }
      ]
    },
    {
      "cell_type": "code",
      "source": [
        "import onnx\n",
        "from onnx2tf import convert\n",
        "\n",
        "# Converter para TFLite\n",
        "convert(\n",
        "    input_onnx_file_path='my_model.onnx',\n",
        "    output_folder_path='',\n",
        "    not_use_onnxsim=True, # -nuo\n",
        "    verbosity=\"info\", # or \"error\"\n",
        "    output_integer_quantized_tflite=True, # int8\n",
        ")\n",
        "print(\"Conversão para TFLite concluída!\")"
      ],
      "metadata": {
        "colab": {
          "base_uri": "https://localhost:8080/"
        },
        "id": "qe-Wjx_W5qe4",
        "outputId": "f9f8ab03-8f68-40b7-d492-49bdb0c066f0"
      },
      "execution_count": null,
      "outputs": [
        {
          "output_type": "stream",
          "name": "stdout",
          "text": [
            "\n",
            "\u001b[07mAutomatic generation of each OP name started\u001b[0m ========================================\n",
            "\u001b[32mAutomatic generation of each OP name complete!\u001b[0m\n",
            "\n",
            "\u001b[07mModel loaded\u001b[0m ========================================================================\n",
            "\n",
            "\u001b[07mModel conversion started\u001b[0m ============================================================\n",
            "\u001b[33mWARNING:\u001b[0m The optimization process for shape estimation is skipped because it contains OPs that cannot be inferred by the standard onnxruntime.\n",
            "\u001b[33mWARNING:\u001b[0m name 'ort' is not defined\n",
            "\u001b[07msaved_model output started\u001b[0m ==========================================================\n",
            "Saved artifact at 'saved_model'. The following endpoints are available:\n",
            "\n",
            "* Endpoint 'serving_default'\n",
            "  inputs_0 (POSITIONAL_ONLY): TensorSpec(shape=(None, 54, 55, 3), dtype=tf.float32, name='input')\n",
            "Output Type:\n",
            "  TensorSpec(shape=(None, 10), dtype=tf.float32, name=None)\n",
            "Captures:\n",
            "  139618975375152: TensorSpec(shape=(3, 3, 3, 16), dtype=tf.float32, name=None)\n",
            "  139618973528688: TensorSpec(shape=(16,), dtype=tf.float32, name=None)\n",
            "  139618973059024: TensorSpec(shape=(3, 3, 16, 32), dtype=tf.float32, name=None)\n",
            "  139618973059552: TensorSpec(shape=(32,), dtype=tf.float32, name=None)\n",
            "  139618974788144: TensorSpec(shape=(3, 3, 32, 64), dtype=tf.float32, name=None)\n",
            "  139618973998192: TensorSpec(shape=(64,), dtype=tf.float32, name=None)\n",
            "  139618972340944: TensorSpec(shape=(3, 3, 64, 128), dtype=tf.float32, name=None)\n",
            "  139618974004704: TensorSpec(shape=(128,), dtype=tf.float32, name=None)\n",
            "  139618973067824: TensorSpec(shape=(3, 3, 128, 128), dtype=tf.float32, name=None)\n",
            "  139618972963712: TensorSpec(shape=(128,), dtype=tf.float32, name=None)\n",
            "  139618972962304: TensorSpec(shape=(3, 3, 128, 256), dtype=tf.float32, name=None)\n",
            "  139618972974800: TensorSpec(shape=(256,), dtype=tf.float32, name=None)\n",
            "  139618973323984: TensorSpec(shape=(256, 128), dtype=tf.float32, name=None)\n",
            "  139618973321520: TensorSpec(shape=(), dtype=tf.float32, name=None)\n",
            "  139618973325216: TensorSpec(shape=(128,), dtype=tf.float32, name=None)\n",
            "  139618971468192: TensorSpec(shape=(128, 64), dtype=tf.float32, name=None)\n",
            "  139618973330144: TensorSpec(shape=(), dtype=tf.float32, name=None)\n",
            "  139618973326448: TensorSpec(shape=(64,), dtype=tf.float32, name=None)\n",
            "  139618971480160: TensorSpec(shape=(64, 10), dtype=tf.float32, name=None)\n",
            "  139618973332784: TensorSpec(shape=(), dtype=tf.float32, name=None)\n",
            "  139618971478928: TensorSpec(shape=(10,), dtype=tf.float32, name=None)\n",
            "\u001b[32msaved_model output complete!\u001b[0m\n",
            "\u001b[32mFloat32 tflite output complete!\u001b[0m\n",
            "\u001b[32mFloat16 tflite output complete!\u001b[0m\n",
            "\u001b[32mDynamic Range Quantization tflite output complete!\u001b[0m\n",
            "\n",
            "\u001b[34mSignature information for quantization\u001b[0m\n",
            "\u001b[34msignature_name\u001b[0m: serving_default\n",
            "\u001b[34minput_name.0\u001b[0m: input \u001b[34mshape\u001b[0m: (None, 54, 55, 3) \u001b[34mdtype\u001b[0m: <dtype: 'float32'>\n",
            "\u001b[34moutput_name.0\u001b[0m: output_0 \u001b[34mshape\u001b[0m: (None, 10) \u001b[34mdtype\u001b[0m: <dtype: 'float32'>\n",
            "\n",
            "\u001b[32mINT8 Quantization tflite output complete!\u001b[0m\n",
            "\u001b[32mFull INT8 Quantization tflite output complete!\u001b[0m\n",
            "\u001b[32mINT8 Quantization with int16 activations tflite output complete!\u001b[0m\n",
            "\u001b[32mFull INT8 Quantization with int16 activations tflite output complete!\u001b[0m\n",
            "Conversão para TFLite concluída!\n"
          ]
        }
      ]
    },
    {
      "cell_type": "markdown",
      "source": [
        "# MANDA MODELO PYTORCH SEM QUANTIZAÇÃO PARA ONNX E DEPOIS EDGE IMPULSE"
      ],
      "metadata": {
        "id": "yecYnx_452AS"
      }
    },
    {
      "cell_type": "code",
      "source": [
        "model = torch.load('my_model_torch.pth')"
      ],
      "metadata": {
        "colab": {
          "base_uri": "https://localhost:8080/"
        },
        "id": "aQ3u9J9UiRnu",
        "outputId": "c8c000c1-2a62-46ed-fda3-7827f9ae45fe"
      },
      "execution_count": null,
      "outputs": [
        {
          "output_type": "stream",
          "name": "stderr",
          "text": [
            "<ipython-input-7-14b352beafc8>:1: FutureWarning: You are using `torch.load` with `weights_only=False` (the current default value), which uses the default pickle module implicitly. It is possible to construct malicious pickle data which will execute arbitrary code during unpickling (See https://github.com/pytorch/pytorch/blob/main/SECURITY.md#untrusted-models for more details). In a future release, the default value for `weights_only` will be flipped to `True`. This limits the functions that could be executed during unpickling. Arbitrary objects will no longer be allowed to be loaded via this mode unless they are explicitly allowlisted by the user via `torch.serialization.add_safe_globals`. We recommend you start setting `weights_only=True` for any use case where you don't have full control of the loaded file. Please open an issue on GitHub for any issues related to this experimental feature.\n",
            "  model = torch.load('my_model_torch.pth')\n"
          ]
        }
      ]
    },
    {
      "cell_type": "code",
      "source": [
        "import torch\n",
        "\n",
        "# Supondo que model seja seu modelo treinado\n",
        "input_tensor = torch.randn(1, 3, 54, 55)  # Exemplo de tensor de entrada\n",
        "\n",
        "torch.onnx.export(\n",
        "    model,\n",
        "    input_tensor,\n",
        "    \"my_model.onnx\",\n",
        "    )"
      ],
      "metadata": {
        "id": "hoTeOz1l50ck"
      },
      "execution_count": null,
      "outputs": []
    },
    {
      "cell_type": "code",
      "source": [
        "ei.model.deploy(model=\"my_model.onnx\",\n",
        "                model_input_type=ei.model.input_type.OtherInput(),\n",
        "                model_output_type=ei.model.output_type.Classification(),\n",
        "                output_directory=\".\")"
      ],
      "metadata": {
        "colab": {
          "base_uri": "https://localhost:8080/"
        },
        "id": "0ZxmvIToMlz_",
        "outputId": "3dbeb1a5-ff5f-4930-9eaf-a498f99eff41"
      },
      "execution_count": null,
      "outputs": [
        {
          "output_type": "execute_result",
          "data": {
            "text/plain": [
              "<_io.BytesIO at 0x795454d72d40>"
            ]
          },
          "metadata": {},
          "execution_count": 11
        }
      ]
    },
    {
      "cell_type": "code",
      "source": [
        "losses = []\n",
        "accuracies = []\n",
        "\n",
        "# gathering metrics across all epochs\n",
        "for i in range(len(history)):\n",
        "    for j in history[i]:\n",
        "        losses.append(j['loss'])\n",
        "        accuracies.append(j['accuracy'])\n",
        "\n",
        "# function to plot metrics\n",
        "def plot(var, title):\n",
        "    plt.plot(var, '-x')\n",
        "    plt.title(title)"
      ],
      "metadata": {
        "id": "t4iFheUwqD_H"
      },
      "execution_count": null,
      "outputs": []
    }
  ]
}